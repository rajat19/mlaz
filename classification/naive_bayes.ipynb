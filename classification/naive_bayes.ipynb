{
 "cells": [
  {
   "cell_type": "markdown",
   "metadata": {},
   "source": [
    "# Naive Bayes\n",
    "\n",
    "Naive Bayes is a family of probabilistic algorithms based on Bayes' Theorem, with the \"naive\" assumption of independence between every pair of features. \n",
    "\n",
    "It is particularly suited for classification tasks and is known for its simplicity, efficiency, and effectiveness in a variety of applications.\n",
    "\n",
    "## Bayes' Theorem\n",
    "\n",
    "Bayes' Theorem provides a way to calculate the probability of a hypothesis given some evidence. It is expressed as:\n",
    "\n",
    "$ P(A|B) = \\frac{P(B|A) \\cdot P(A)}{P(B)}$\n",
    "\n",
    "Where:\n",
    "- $P(A|B)$ is the posterior probability of hypothesis $ A $ given evidence $ B $.\n",
    "- $ P(B|A) $ is the likelihood of evidence $ B $ given hypothesis $ A $.\n",
    "- $ P(A) $ is the prior probability of hypothesis $ A $.\n",
    "- $ P(B) $ is the prior probability of evidence $ B $.\n",
    "\n",
    "## Types of Naive Bayes Classifiers\n",
    "\n",
    "1. **Gaussian Naive Bayes:**\n",
    "   - Assumes that the features follow a normal (Gaussian) distribution.\n",
    "   - Suitable for continuous data.\n",
    "   - The likelihood of the features is calculated using the Gaussian distribution:\n",
    "\n",
    "     $ P(x_i|y) = \\frac{1}{\\sqrt{2\\pi\\sigma_y^2}} \\exp\\left( -\\frac{(x_i - \\mu_y)^2}{2\\sigma_y^2} \\right) $\n",
    "\n",
    "     Where $ \\mu_y $ and $ \\sigma_y $ are the mean and standard deviation of the feature $ x_i $ for class $ y $.\n",
    "\n",
    "2. **Multinomial Naive Bayes:**\n",
    "   - Suitable for discrete data, especially for text classification tasks (e.g., spam detection).\n",
    "   - Assumes that the features follow a multinomial distribution.\n",
    "   - The likelihood of the features is calculated based on the frequency of terms:\n",
    "\n",
    "     $ P(x_i|y) = \\frac{\\text{count}(x_i, y) + \\alpha}{\\sum \\text{count}(x_j, y) + \\alpha \\cdot n} $\n",
    "\n",
    "     Where $\\alpha$ is the smoothing parameter (Laplace smoothing) and $ n $ is the number of possible feature values.\n",
    "\n",
    "3. **Bernoulli Naive Bayes:**\n",
    "   - Suitable for binary/Boolean features (e.g., presence or absence of a word).\n",
    "   - Assumes that the features follow a Bernoulli distribution.\n",
    "   - The likelihood of the features is calculated as:\n",
    "\n",
    "     $ P(x_i|y) = p_{i,y}^{x_i} \\cdot (1 - p_{i,y})^{(1 - x_i)} $\n",
    "\n",
    "     Where $ p_{i,y} $ is the probability of feature $ x_i $ being 1 given class $ y $.\n",
    "\n",
    "## Assumptions\n",
    "\n",
    "- **Feature Independence:** Naive Bayes assumes that all features are independent given the class label. This is often not true in real-world data but the algorithm performs surprisingly well despite this assumption.\n",
    "\n",
    "## Advantages\n",
    "\n",
    "- **Simple and Fast:** Easy to implement and computationally efficient.\n",
    "- **Handles Missing Data:** Can handle missing data during prediction.\n",
    "- **Effective with Small Data:** Performs well with relatively small datasets.\n",
    "- **Scalable:** Efficient in terms of both space and time complexity.\n",
    "\n",
    "## Disadvantages\n",
    "\n",
    "- **Feature Independence Assumption:** Assumes that features are independent, which is rarely true in real-world data.\n",
    "- **Zero Probability Problem:** If a feature value was not present in the training set, it will assign zero probability to that feature. This can be mitigated with techniques like Laplace smoothing.\n",
    "\n",
    "## Applications\n",
    "\n",
    "- **Text Classification:** Spam detection, sentiment analysis, document categorization.\n",
    "- **Medical Diagnosis:** Predicting diseases based on symptoms.\n",
    "- **Recommendation Systems:** Collaborative filtering."
   ]
  },
  {
   "cell_type": "code",
   "execution_count": null,
   "metadata": {},
   "outputs": [],
   "source": []
  }
 ],
 "metadata": {
  "kernelspec": {
   "display_name": "Python 3.9.6 64-bit",
   "language": "python",
   "name": "python3"
  },
  "language_info": {
   "name": "python",
   "version": "3.9.6"
  },
  "orig_nbformat": 4,
  "vscode": {
   "interpreter": {
    "hash": "5edc29c2ed010d6458d71a83433b383a96a8cbd3efe8531bc90c4b8a5b8bcec9"
   }
  }
 },
 "nbformat": 4,
 "nbformat_minor": 2
}
