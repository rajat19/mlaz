{
 "cells": [
  {
   "cell_type": "markdown",
   "id": "3b098a265b3d5dcf",
   "metadata": {
    "collapsed": false
   },
   "source": [
    "## Multiple Linear Regression\n",
    "\n",
    "$$ y_{predict} = b_{0} + b_{1}X_{1} + b_{2}X_{2} + ... + b_{n}X_{n} $$\n",
    "\n",
    "1. $ y_{predict} $ = Dependent variable\n",
    "2. $ b_{0} $ = y-intercept (constant)\n",
    "3. $ b_{1} $ = slope coefficient 1\n",
    "4. $ X_{1} $ = independent variable 1"
   ]
  },
  {
   "cell_type": "markdown",
   "id": "a3ccb700",
   "metadata": {},
   "source": [
    "### Assumptions of linear regression\n",
    "\n",
    "1. Linearity - Linear relationship between Y and each X\n",
    "2. Homoscedasticity - Equal variance\n",
    "3. Multivariate Normality - Normality of error distribution\n",
    "4. Independence - of observations. Includes \"no autocorrelation\"\n",
    "5. Lack of Multicollinearity - PRedictors are not correlated with each other\n",
    "6. Outlier check\n",
    "\n",
    "<img src=\"./assumption_of_linear_regression.png\" height=\"400px\">"
   ]
  },
  {
   "cell_type": "markdown",
   "id": "bfc83720",
   "metadata": {},
   "source": [
    "### Statistical Significance\n",
    "\n",
    "For a coin toss,\n",
    "Assuming we have two hypothesis\n",
    "\n",
    "1. Null Hypothesis $ H_{0} $ : This is a fair coin\n",
    "2. Alternative Hypothesis is $ H_{1} $ : This is not a fair coin\n",
    "\n",
    "Suppose we toss a coin multiple times in a fair world\n",
    "1. Gets tail -> 50%\n",
    "2. Gets tail -> 25%\n",
    "3. Gets tail -> 12.5%\n",
    "4. Gets tail -> 6.25%\n",
    "5. Gets tail -> 3.125%\n",
    "6. Gets tail -> 1.5625%\n",
    "\n",
    "p-value is dropping (Very unlikely we get 6 tails in a row)\n",
    "\n",
    "If we lived in second universe of alternative hypothesis, and both sides of coin had 2 tails\n",
    "then p-value might not have decreased\n",
    "\n",
    "Statistical significance is $ \\alpha = 0.05 $ \n",
    "\n",
    "i.e. I am 95% sure i am living in null hypothesis world or fair world"
   ]
  },
  {
   "cell_type": "markdown",
   "id": "2d2de63c",
   "metadata": {},
   "source": [
    "### Building a model\n",
    "\n",
    "There are 5 methods of building models\n",
    "1. All-in\n",
    "2. Backward Elimination\n",
    "3. Forward Selection\n",
    "4. Bidirectional Elimination\n",
    "5. Score Comparison"
   ]
  },
  {
   "cell_type": "markdown",
   "id": "42e92ca0",
   "metadata": {},
   "source": [
    "#### All-in\n",
    "\n",
    "Throw in all variables. When to use it-\n",
    "1. Prior knowledge of variables OR\n",
    "2. You have to (necessity) OR\n",
    "3. Preparing for Backward elimination\n",
    "\n",
    "\n",
    "#### Backward Elimination\n",
    "\n",
    "Step 1: Select a significance level to stay in the model (eg SL = 0.05) <br>\n",
    "Step 2: Fit the full model with all possible predictors<br>\n",
    "Step 3: Consider the predictor with highest P-value. If P > SL, goto Step 4, otherwise go to FIN<br>\n",
    "Step 4: Remove the predictor<br>\n",
    "Step 5: Fit model without this variable. Go to step 3<br>\n",
    "\n",
    "FIN: model is ready\n",
    "\n",
    "\n",
    "#### Forward Selection\n",
    "\n",
    "Step 1: Select a significance level to enter the model (eg SL = 0.05) <br>\n",
    "Step 2: Fit all simple regression models y ~ $x_{n}$ Select the one with lowest p-value<br>\n",
    "Step 3: Keep this variable and fit all possible models with one extra predictor added to the one(s) you already have<br>\n",
    "Step 4: Consider the predictor with lowest P-value. If P < SL, go to Step 3, otherwise go to FIN\n",
    "\n",
    "FIN: Keep the previous model\n",
    "\n",
    "\n",
    "#### Bidirectional elimination\n",
    "\n",
    "Step 1: Select a significance level to enter and to stay in the model. eg. SLENTER = 0.05, SLSTAY = 0.05<br>\n",
    "Step 2: Perform the next step of Forward Selection (new variables must have: P < SLENTER to enter)<br>\n",
    "Step 3: Perform all stpes of Backward Elimination (old variables must have P < SLSTAY to stay)<br>\n",
    "Step 4: No new variables can enter and no old variables can exit\n",
    "\n",
    "FIN: Your model is ready"
   ]
  },
  {
   "cell_type": "markdown",
   "id": "3bc3fe52",
   "metadata": {},
   "source": [
    "### Importing Libraries"
   ]
  },
  {
   "cell_type": "code",
   "execution_count": 1,
   "id": "initial_id",
   "metadata": {
    "ExecuteTime": {
     "end_time": "2023-11-16T14:49:19.518210Z",
     "start_time": "2023-11-16T14:49:18.919401Z"
    },
    "collapsed": true
   },
   "outputs": [],
   "source": [
    "import numpy as np\n",
    "import pandas as pd\n",
    "import matplotlib.pyplot as plt"
   ]
  },
  {
   "cell_type": "markdown",
   "id": "30e60c8bdf445404",
   "metadata": {
    "collapsed": false
   },
   "source": [
    "### Importing dataset"
   ]
  },
  {
   "cell_type": "code",
   "execution_count": 2,
   "id": "18774de3",
   "metadata": {
    "ExecuteTime": {
     "end_time": "2023-11-16T14:49:19.527626Z",
     "start_time": "2023-11-16T14:49:19.520848Z"
    }
   },
   "outputs": [],
   "source": [
    "dataset = pd.read_csv('./startups.csv')\n",
    "X = dataset.drop(columns='Profit')\n",
    "y = dataset['Profit']"
   ]
  },
  {
   "cell_type": "code",
   "execution_count": 3,
   "id": "a29ef7bbc7ee7fc5",
   "metadata": {
    "ExecuteTime": {
     "end_time": "2023-11-16T14:49:19.538434Z",
     "start_time": "2023-11-16T14:49:19.526941Z"
    },
    "collapsed": false
   },
   "outputs": [
    {
     "data": {
      "text/html": [
       "<div>\n",
       "<style scoped>\n",
       "    .dataframe tbody tr th:only-of-type {\n",
       "        vertical-align: middle;\n",
       "    }\n",
       "\n",
       "    .dataframe tbody tr th {\n",
       "        vertical-align: top;\n",
       "    }\n",
       "\n",
       "    .dataframe thead th {\n",
       "        text-align: right;\n",
       "    }\n",
       "</style>\n",
       "<table border=\"1\" class=\"dataframe\">\n",
       "  <thead>\n",
       "    <tr style=\"text-align: right;\">\n",
       "      <th></th>\n",
       "      <th>R&amp;D Spend</th>\n",
       "      <th>Administration</th>\n",
       "      <th>Marketing Spend</th>\n",
       "      <th>State</th>\n",
       "    </tr>\n",
       "  </thead>\n",
       "  <tbody>\n",
       "    <tr>\n",
       "      <th>0</th>\n",
       "      <td>165349.20</td>\n",
       "      <td>136897.80</td>\n",
       "      <td>471784.10</td>\n",
       "      <td>New York</td>\n",
       "    </tr>\n",
       "    <tr>\n",
       "      <th>1</th>\n",
       "      <td>162597.70</td>\n",
       "      <td>151377.59</td>\n",
       "      <td>443898.53</td>\n",
       "      <td>California</td>\n",
       "    </tr>\n",
       "    <tr>\n",
       "      <th>2</th>\n",
       "      <td>153441.51</td>\n",
       "      <td>101145.55</td>\n",
       "      <td>407934.54</td>\n",
       "      <td>Florida</td>\n",
       "    </tr>\n",
       "    <tr>\n",
       "      <th>3</th>\n",
       "      <td>144372.41</td>\n",
       "      <td>118671.85</td>\n",
       "      <td>383199.62</td>\n",
       "      <td>New York</td>\n",
       "    </tr>\n",
       "    <tr>\n",
       "      <th>4</th>\n",
       "      <td>142107.34</td>\n",
       "      <td>91391.77</td>\n",
       "      <td>366168.42</td>\n",
       "      <td>Florida</td>\n",
       "    </tr>\n",
       "  </tbody>\n",
       "</table>\n",
       "</div>"
      ],
      "text/plain": [
       "   R&D Spend  Administration  Marketing Spend       State\n",
       "0  165349.20       136897.80        471784.10    New York\n",
       "1  162597.70       151377.59        443898.53  California\n",
       "2  153441.51       101145.55        407934.54     Florida\n",
       "3  144372.41       118671.85        383199.62    New York\n",
       "4  142107.34        91391.77        366168.42     Florida"
      ]
     },
     "execution_count": 3,
     "metadata": {},
     "output_type": "execute_result"
    }
   ],
   "source": [
    "X.head()"
   ]
  },
  {
   "cell_type": "code",
   "execution_count": 4,
   "id": "74629f90205998ed",
   "metadata": {
    "ExecuteTime": {
     "end_time": "2023-11-16T14:49:19.553607Z",
     "start_time": "2023-11-16T14:49:19.535721Z"
    },
    "collapsed": false
   },
   "outputs": [
    {
     "data": {
      "text/plain": [
       "0    192261.83\n",
       "1    191792.06\n",
       "2    191050.39\n",
       "3    182901.99\n",
       "4    166187.94\n",
       "Name: Profit, dtype: float64"
      ]
     },
     "execution_count": 4,
     "metadata": {},
     "output_type": "execute_result"
    }
   ],
   "source": [
    "y.head()"
   ]
  },
  {
   "cell_type": "markdown",
   "id": "b0a19715d60da2f0",
   "metadata": {
    "collapsed": false
   },
   "source": [
    "### Encoding categorical data"
   ]
  },
  {
   "cell_type": "code",
   "execution_count": 5,
   "id": "657763e445f8a1ab",
   "metadata": {
    "ExecuteTime": {
     "end_time": "2023-11-16T14:49:19.572690Z",
     "start_time": "2023-11-16T14:49:19.542685Z"
    },
    "collapsed": false
   },
   "outputs": [],
   "source": [
    "# from sklearn.compose import ColumnTransformer\n",
    "# from sklearn.preprocessing import OneHotEncoder\n",
    "# \n",
    "# ct = ColumnTransformer(transformers=[('encoder', OneHotEncoder(), ['State'])], remainder='passthrough')\n",
    "# \n",
    "# X = pd.DataFrame(ct.fit_transform(X))\n",
    "\n",
    "X = pd.get_dummies(X, columns=['State'])"
   ]
  },
  {
   "cell_type": "code",
   "execution_count": 6,
   "id": "6a3806cfdb7ad6a3",
   "metadata": {
    "ExecuteTime": {
     "end_time": "2023-11-16T14:49:19.648679Z",
     "start_time": "2023-11-16T14:49:19.550876Z"
    },
    "collapsed": false
   },
   "outputs": [
    {
     "data": {
      "text/html": [
       "<div>\n",
       "<style scoped>\n",
       "    .dataframe tbody tr th:only-of-type {\n",
       "        vertical-align: middle;\n",
       "    }\n",
       "\n",
       "    .dataframe tbody tr th {\n",
       "        vertical-align: top;\n",
       "    }\n",
       "\n",
       "    .dataframe thead th {\n",
       "        text-align: right;\n",
       "    }\n",
       "</style>\n",
       "<table border=\"1\" class=\"dataframe\">\n",
       "  <thead>\n",
       "    <tr style=\"text-align: right;\">\n",
       "      <th></th>\n",
       "      <th>R&amp;D Spend</th>\n",
       "      <th>Administration</th>\n",
       "      <th>Marketing Spend</th>\n",
       "      <th>State_California</th>\n",
       "      <th>State_Florida</th>\n",
       "      <th>State_New York</th>\n",
       "    </tr>\n",
       "  </thead>\n",
       "  <tbody>\n",
       "    <tr>\n",
       "      <th>0</th>\n",
       "      <td>165349.20</td>\n",
       "      <td>136897.80</td>\n",
       "      <td>471784.10</td>\n",
       "      <td>False</td>\n",
       "      <td>False</td>\n",
       "      <td>True</td>\n",
       "    </tr>\n",
       "    <tr>\n",
       "      <th>1</th>\n",
       "      <td>162597.70</td>\n",
       "      <td>151377.59</td>\n",
       "      <td>443898.53</td>\n",
       "      <td>True</td>\n",
       "      <td>False</td>\n",
       "      <td>False</td>\n",
       "    </tr>\n",
       "    <tr>\n",
       "      <th>2</th>\n",
       "      <td>153441.51</td>\n",
       "      <td>101145.55</td>\n",
       "      <td>407934.54</td>\n",
       "      <td>False</td>\n",
       "      <td>True</td>\n",
       "      <td>False</td>\n",
       "    </tr>\n",
       "    <tr>\n",
       "      <th>3</th>\n",
       "      <td>144372.41</td>\n",
       "      <td>118671.85</td>\n",
       "      <td>383199.62</td>\n",
       "      <td>False</td>\n",
       "      <td>False</td>\n",
       "      <td>True</td>\n",
       "    </tr>\n",
       "    <tr>\n",
       "      <th>4</th>\n",
       "      <td>142107.34</td>\n",
       "      <td>91391.77</td>\n",
       "      <td>366168.42</td>\n",
       "      <td>False</td>\n",
       "      <td>True</td>\n",
       "      <td>False</td>\n",
       "    </tr>\n",
       "  </tbody>\n",
       "</table>\n",
       "</div>"
      ],
      "text/plain": [
       "   R&D Spend  Administration  Marketing Spend  State_California  \\\n",
       "0  165349.20       136897.80        471784.10             False   \n",
       "1  162597.70       151377.59        443898.53              True   \n",
       "2  153441.51       101145.55        407934.54             False   \n",
       "3  144372.41       118671.85        383199.62             False   \n",
       "4  142107.34        91391.77        366168.42             False   \n",
       "\n",
       "   State_Florida  State_New York  \n",
       "0          False            True  \n",
       "1          False           False  \n",
       "2           True           False  \n",
       "3          False            True  \n",
       "4           True           False  "
      ]
     },
     "execution_count": 6,
     "metadata": {},
     "output_type": "execute_result"
    }
   ],
   "source": [
    "X.head()"
   ]
  },
  {
   "cell_type": "markdown",
   "id": "f7275c1a76a0f431",
   "metadata": {
    "collapsed": false
   },
   "source": [
    "### Splitting the dataset into Training set and Test set"
   ]
  },
  {
   "cell_type": "code",
   "execution_count": 7,
   "id": "9ce1d71ab6d16cd6",
   "metadata": {
    "ExecuteTime": {
     "end_time": "2023-11-16T14:52:15.734966Z",
     "start_time": "2023-11-16T14:52:14.784968Z"
    },
    "collapsed": false
   },
   "outputs": [],
   "source": [
    "from sklearn.model_selection import train_test_split\n",
    "X_train, X_test, y_train, y_test = train_test_split(X, y, test_size=0.2, random_state=0)"
   ]
  },
  {
   "cell_type": "markdown",
   "id": "2eb6ce4ab0231a3c",
   "metadata": {
    "collapsed": false
   },
   "source": [
    "### Training the multiple linear regression model on the training set"
   ]
  },
  {
   "cell_type": "code",
   "execution_count": 8,
   "id": "230067c6bdb98997",
   "metadata": {
    "ExecuteTime": {
     "end_time": "2023-11-16T14:55:33.015395Z",
     "start_time": "2023-11-16T14:55:32.757406Z"
    },
    "collapsed": false
   },
   "outputs": [
    {
     "data": {
      "text/html": [
       "<style>#sk-container-id-1 {color: black;}#sk-container-id-1 pre{padding: 0;}#sk-container-id-1 div.sk-toggleable {background-color: white;}#sk-container-id-1 label.sk-toggleable__label {cursor: pointer;display: block;width: 100%;margin-bottom: 0;padding: 0.3em;box-sizing: border-box;text-align: center;}#sk-container-id-1 label.sk-toggleable__label-arrow:before {content: \"▸\";float: left;margin-right: 0.25em;color: #696969;}#sk-container-id-1 label.sk-toggleable__label-arrow:hover:before {color: black;}#sk-container-id-1 div.sk-estimator:hover label.sk-toggleable__label-arrow:before {color: black;}#sk-container-id-1 div.sk-toggleable__content {max-height: 0;max-width: 0;overflow: hidden;text-align: left;background-color: #f0f8ff;}#sk-container-id-1 div.sk-toggleable__content pre {margin: 0.2em;color: black;border-radius: 0.25em;background-color: #f0f8ff;}#sk-container-id-1 input.sk-toggleable__control:checked~div.sk-toggleable__content {max-height: 200px;max-width: 100%;overflow: auto;}#sk-container-id-1 input.sk-toggleable__control:checked~label.sk-toggleable__label-arrow:before {content: \"▾\";}#sk-container-id-1 div.sk-estimator input.sk-toggleable__control:checked~label.sk-toggleable__label {background-color: #d4ebff;}#sk-container-id-1 div.sk-label input.sk-toggleable__control:checked~label.sk-toggleable__label {background-color: #d4ebff;}#sk-container-id-1 input.sk-hidden--visually {border: 0;clip: rect(1px 1px 1px 1px);clip: rect(1px, 1px, 1px, 1px);height: 1px;margin: -1px;overflow: hidden;padding: 0;position: absolute;width: 1px;}#sk-container-id-1 div.sk-estimator {font-family: monospace;background-color: #f0f8ff;border: 1px dotted black;border-radius: 0.25em;box-sizing: border-box;margin-bottom: 0.5em;}#sk-container-id-1 div.sk-estimator:hover {background-color: #d4ebff;}#sk-container-id-1 div.sk-parallel-item::after {content: \"\";width: 100%;border-bottom: 1px solid gray;flex-grow: 1;}#sk-container-id-1 div.sk-label:hover label.sk-toggleable__label {background-color: #d4ebff;}#sk-container-id-1 div.sk-serial::before {content: \"\";position: absolute;border-left: 1px solid gray;box-sizing: border-box;top: 0;bottom: 0;left: 50%;z-index: 0;}#sk-container-id-1 div.sk-serial {display: flex;flex-direction: column;align-items: center;background-color: white;padding-right: 0.2em;padding-left: 0.2em;position: relative;}#sk-container-id-1 div.sk-item {position: relative;z-index: 1;}#sk-container-id-1 div.sk-parallel {display: flex;align-items: stretch;justify-content: center;background-color: white;position: relative;}#sk-container-id-1 div.sk-item::before, #sk-container-id-1 div.sk-parallel-item::before {content: \"\";position: absolute;border-left: 1px solid gray;box-sizing: border-box;top: 0;bottom: 0;left: 50%;z-index: -1;}#sk-container-id-1 div.sk-parallel-item {display: flex;flex-direction: column;z-index: 1;position: relative;background-color: white;}#sk-container-id-1 div.sk-parallel-item:first-child::after {align-self: flex-end;width: 50%;}#sk-container-id-1 div.sk-parallel-item:last-child::after {align-self: flex-start;width: 50%;}#sk-container-id-1 div.sk-parallel-item:only-child::after {width: 0;}#sk-container-id-1 div.sk-dashed-wrapped {border: 1px dashed gray;margin: 0 0.4em 0.5em 0.4em;box-sizing: border-box;padding-bottom: 0.4em;background-color: white;}#sk-container-id-1 div.sk-label label {font-family: monospace;font-weight: bold;display: inline-block;line-height: 1.2em;}#sk-container-id-1 div.sk-label-container {text-align: center;}#sk-container-id-1 div.sk-container {/* jupyter's `normalize.less` sets `[hidden] { display: none; }` but bootstrap.min.css set `[hidden] { display: none !important; }` so we also need the `!important` here to be able to override the default hidden behavior on the sphinx rendered scikit-learn.org. See: https://github.com/scikit-learn/scikit-learn/issues/21755 */display: inline-block !important;position: relative;}#sk-container-id-1 div.sk-text-repr-fallback {display: none;}</style><div id=\"sk-container-id-1\" class=\"sk-top-container\"><div class=\"sk-text-repr-fallback\"><pre>LinearRegression()</pre><b>In a Jupyter environment, please rerun this cell to show the HTML representation or trust the notebook. <br />On GitHub, the HTML representation is unable to render, please try loading this page with nbviewer.org.</b></div><div class=\"sk-container\" hidden><div class=\"sk-item\"><div class=\"sk-estimator sk-toggleable\"><input class=\"sk-toggleable__control sk-hidden--visually\" id=\"sk-estimator-id-1\" type=\"checkbox\" checked><label for=\"sk-estimator-id-1\" class=\"sk-toggleable__label sk-toggleable__label-arrow\">LinearRegression</label><div class=\"sk-toggleable__content\"><pre>LinearRegression()</pre></div></div></div></div></div>"
      ],
      "text/plain": [
       "LinearRegression()"
      ]
     },
     "execution_count": 8,
     "metadata": {},
     "output_type": "execute_result"
    }
   ],
   "source": [
    "from sklearn.linear_model import LinearRegression\n",
    "\n",
    "regressor = LinearRegression()\n",
    "regressor.fit(X_train, y_train)"
   ]
  },
  {
   "cell_type": "markdown",
   "id": "203e65bfcaeabda6",
   "metadata": {
    "collapsed": false
   },
   "source": [
    "### Predicting the Test set results"
   ]
  },
  {
   "cell_type": "code",
   "execution_count": 11,
   "id": "8d4abf1763bb96e3",
   "metadata": {
    "ExecuteTime": {
     "end_time": "2023-11-16T15:00:52.189954Z",
     "start_time": "2023-11-16T15:00:52.171420Z"
    },
    "collapsed": false
   },
   "outputs": [
    {
     "data": {
      "text/plain": [
       "array([103015.2 , 132582.28, 132447.74,  71976.1 , 178537.48, 116161.24,\n",
       "        67851.69,  98791.73, 113969.44, 167921.07])"
      ]
     },
     "execution_count": 11,
     "metadata": {},
     "output_type": "execute_result"
    }
   ],
   "source": [
    "y_pred = regressor.predict(X_test)\n",
    "\n",
    "np.set_printoptions(precision=2)\n",
    "# print(np.concatenate((y_pred, y_test)))\n",
    "y_pred"
   ]
  },
  {
   "cell_type": "code",
   "execution_count": 12,
   "id": "fdf34ed415e9344d",
   "metadata": {
    "ExecuteTime": {
     "end_time": "2023-11-16T15:00:57.251506Z",
     "start_time": "2023-11-16T15:00:57.234820Z"
    },
    "collapsed": false
   },
   "outputs": [
    {
     "data": {
      "text/plain": [
       "28    103282.38\n",
       "11    144259.40\n",
       "10    146121.95\n",
       "41     77798.83\n",
       "2     191050.39\n",
       "27    105008.31\n",
       "38     81229.06\n",
       "31     97483.56\n",
       "22    110352.25\n",
       "4     166187.94\n",
       "Name: Profit, dtype: float64"
      ]
     },
     "execution_count": 12,
     "metadata": {},
     "output_type": "execute_result"
    }
   ],
   "source": [
    "y_test"
   ]
  },
  {
   "cell_type": "code",
   "execution_count": null,
   "id": "82022b5d0243b11e",
   "metadata": {
    "collapsed": false
   },
   "outputs": [],
   "source": []
  }
 ],
 "metadata": {
  "kernelspec": {
   "display_name": "Python 3.11.6 64-bit",
   "language": "python",
   "name": "python3"
  },
  "language_info": {
   "codemirror_mode": {
    "name": "ipython",
    "version": 2
   },
   "file_extension": ".py",
   "mimetype": "text/x-python",
   "name": "python",
   "nbconvert_exporter": "python",
   "pygments_lexer": "ipython2",
   "version": "3.11.6"
  },
  "vscode": {
   "interpreter": {
    "hash": "b0fa6594d8f4cbf19f97940f81e996739fb7646882a419484c72d19e05852a7e"
   }
  }
 },
 "nbformat": 4,
 "nbformat_minor": 5
}
